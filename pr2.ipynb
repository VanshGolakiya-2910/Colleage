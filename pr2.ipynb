{
 "cells": [
  {
   "cell_type": "code",
   "execution_count": 7,
   "metadata": {},
   "outputs": [],
   "source": [
    "import pandas as pd\n",
    "import numpy as np\n",
    "def read_data():\n",
    "    df=pd.read_csv(\"DataSet.csv\")\n",
    "    df=df.sort_values(by=['Age'])\n",
    "    return df\n",
    "def create_bin(df):\n",
    "    bin=[[0,10],[11,20],[21,30],[31,40],[41,50],[51,60],[61,70],[71,80]]\n",
    "    bin_edges = [b[0] for b in bin] + [bin[-1][1]]\n",
    "    df['Age_Bucket'] = pd.cut(df['Age'], bins=bin_edges, labels=False, include_lowest=True)\n",
    "    return df\n",
    "def save_to_excel(df, filename=\"UpdatedDataSet.xlsx\"):\n",
    "    try:\n",
    "        df.to_excel(filename, index=False)\n",
    "        print(f\"Data saved to {filename}\")\n",
    "    except Exception as e:\n",
    "        print(f\"Error saving the file: {e}\")\n",
    "def add_statistics(df):\n",
    "    grouped = df.groupby('Age_Bucket').agg({'Age': ['mean', 'median']})\n",
    "    grouped.columns = ['Mean_Age', 'Median_Age']\n",
    "    grouped = grouped.reset_index()\n",
    "    df = df.merge(grouped, on='Age_Bucket', how='left')\n",
    "    return df\n",
    "def save_to_mean_excle(df,filename=\"meanDataSet.xlsx\"):\n",
    "    df['Age'] = df['Age_Bucket'].map(df.groupby('Age_Bucket')['Mean_Age'].first())\n",
    "    try:\n",
    "        df.to_excel(filename, index=False)\n",
    "        print(f\"Data saved to {filename}\")\n",
    "    except Exception as e:\n",
    "        print(f\"Error saving the file: {e}\")\n",
    "def save_to_median_excle(df,filename=\"medianDataSet.xlsx\"):\n",
    "    df['Age'] = df['Age_Bucket'].map(df.groupby('Age_Bucket')['Median_Age'].first())\n",
    "    try:\n",
    "        df.to_excel(filename, index=False)\n",
    "        print(f\"Data saved to {filename}\")\n",
    "    except Exception as e:\n",
    "        print(f\"Error saving the file: {e}\")"
   ]
  },
  {
   "cell_type": "code",
   "execution_count": null,
   "metadata": {},
   "outputs": [],
   "source": []
  },
  {
   "cell_type": "code",
   "execution_count": 6,
   "metadata": {},
   "outputs": [
    {
     "name": "stdout",
     "output_type": "stream",
     "text": [
      "Data saved to UpdatedDataSet.xlsx\n",
      "Data saved to meanDataSet.xlsx\n",
      "Data saved to medianDataSet.xlsx\n"
     ]
    }
   ],
   "source": [
    "def main():\n",
    "    df=read_data()\n",
    "    df=create_bin(df)\n",
    "    df=add_statistics(df)\n",
    "    save_to_excel(df)\n",
    "    save_to_mean_excle(df)\n",
    "    save_to_median_excle(df)\n",
    "if __name__=='__main__':\n",
    "    main()"
   ]
  },
  {
   "cell_type": "code",
   "execution_count": null,
   "metadata": {},
   "outputs": [],
   "source": []
  }
 ],
 "metadata": {
  "kernelspec": {
   "display_name": "base",
   "language": "python",
   "name": "python3"
  },
  "language_info": {
   "codemirror_mode": {
    "name": "ipython",
    "version": 3
   },
   "file_extension": ".py",
   "mimetype": "text/x-python",
   "name": "python",
   "nbconvert_exporter": "python",
   "pygments_lexer": "ipython3",
   "version": "3.12.4"
  }
 },
 "nbformat": 4,
 "nbformat_minor": 2
}
